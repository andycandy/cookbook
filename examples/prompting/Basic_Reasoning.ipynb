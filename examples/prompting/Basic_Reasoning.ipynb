{
  "cells": [
    {
      "cell_type": "markdown",
      "metadata": {
        "id": "ATN0AySQa38h"
      },
      "source": [
        "##### Copyright 2024 Google LLC."
      ]
    },
    {
      "cell_type": "code",
      "execution_count": null,
      "metadata": {
        "cellView": "form",
        "id": "80WmhK32a-_g"
      },
      "outputs": [],
      "source": [
        "# @title Licensed under the Apache License, Version 2.0 (the \"License\");\n",
        "# you may not use this file except in compliance with the License.\n",
        "# You may obtain a copy of the License at\n",
        "#\n",
        "# https://www.apache.org/licenses/LICENSE-2.0\n",
        "#\n",
        "# Unless required by applicable law or agreed to in writing, software\n",
        "# distributed under the License is distributed on an \"AS IS\" BASIS,\n",
        "# WITHOUT WARRANTIES OR CONDITIONS OF ANY KIND, either express or implied.\n",
        "# See the License for the specific language governing permissions and\n",
        "# limitations under the License."
      ]
    },
    {
      "cell_type": "markdown",
      "metadata": {
        "id": "sP8PQnz1QrcF"
      },
      "source": [
        "# Gemini API: Basic reasoning\n",
        "\n",
        "This notebook demonstrates how to use prompting to perform reasoning tasks using the Gemini API's Python SDK. In this example, you will work through a mathematical word problem using prompting."
      ]
    },
    {
      "cell_type": "markdown",
      "metadata": {
        "id": "bxGr_x3MRA0z"
      },
      "source": [
        "<table class=\"tfo-notebook-buttons\" align=\"left\">\n",
        "  <td>\n",
        "    <a target=\"_blank\" href=\"https://colab.research.google.com/github/google-gemini/cookbook/blob/main/examples/prompting/Basic_Reasoning.ipynb\"><img src = \"../../images/colab_logo_32px.png\"/>Run in Google Colab</a>\n",
        "  </td>\n",
        "</table>"
      ]
    },
    {
      "cell_type": "markdown",
      "metadata": {
        "id": "ysy--KfNRrCq"
      },
      "source": [
        "The Gemini API can handle many tasks that involve indirect reasoning, such as solving mathematical or logical proofs.\n",
        "\n",
        "In this example, you will see how the LLM explains given problems step by step."
      ]
    },
    {
      "cell_type": "code",
      "execution_count": 1,
      "metadata": {
        "id": "Ne-3gnXqR0hI",
        "outputId": "d5d77dd9-8b55-4693-ca7e-9a877bfad3d9",
        "colab": {
          "base_uri": "https://localhost:8080/"
        }
      },
      "outputs": [
        {
          "output_type": "stream",
          "name": "stdout",
          "text": [
            "\u001b[?25l   \u001b[90m━━━━━━━━━━━━━━━━━━━━━━━━━━━━━━━━━━━━━━━━\u001b[0m \u001b[32m0.0/141.0 kB\u001b[0m \u001b[31m?\u001b[0m eta \u001b[36m-:--:--\u001b[0m\r\u001b[2K   \u001b[90m━━━━━━━━━━━━━━━━━━━━━━━━━━━━━━━━━━━━━━━━\u001b[0m \u001b[32m141.0/141.0 kB\u001b[0m \u001b[31m4.7 MB/s\u001b[0m eta \u001b[36m0:00:00\u001b[0m\n",
            "\u001b[?25h"
          ]
        }
      ],
      "source": [
        "!pip install -U -q \"google-genai\""
      ]
    },
    {
      "cell_type": "markdown",
      "metadata": {
        "id": "eomJzCa6lb90"
      },
      "source": [
        "## Configure your API key\n",
        "\n",
        "To run the following cell, your API key must be stored it in a Colab Secret named `GOOGLE_API_KEY`. If you don't already have an API key, or you're not sure how to create a Colab Secret, see [Authentication](https://github.com/google-gemini/cookbook/blob/main/quickstarts/Authentication.ipynb) for an example."
      ]
    },
    {
      "cell_type": "code",
      "execution_count": 2,
      "metadata": {
        "id": "v-JZzORUpVR2"
      },
      "outputs": [],
      "source": [
        "from google import genai\n",
        "from google.colab import userdata\n",
        "\n",
        "GOOGLE_API_KEY=userdata.get('GOOGLE_API_KEY')\n",
        "client = genai.Client(api_key=GOOGLE_API_KEY)"
      ]
    },
    {
      "cell_type": "markdown",
      "metadata": {
        "id": "L-Wt23A_uzFZ"
      },
      "source": [
        "## Examples\n",
        "\n",
        "Begin by defining some system instructions that will be include when you define and choose the model."
      ]
    },
    {
      "cell_type": "code",
      "execution_count": 4,
      "metadata": {
        "id": "SabVqFgbu_Hd"
      },
      "outputs": [],
      "source": [
        "from google.genai import types\n",
        "\n",
        "system_prompt = \"\"\"\n",
        "  You are a teacher solving mathematical and logical problems. Your task:\n",
        "  1. Summarize given conditions.\n",
        "  2. Identify the problem.\n",
        "  3. Provide a clear, step-by-step solution.\n",
        "  4. Provide an explanation for each step.\n",
        "\n",
        "  Ensure simplicity, clarity, and correctness in all steps of your explanation.\n",
        "  Each of your task should be done in order and seperately.\n",
        "\"\"\"\n",
        "config = types.GenerateContentConfig(\n",
        "    system_instruction=system_prompt)"
      ]
    },
    {
      "cell_type": "markdown",
      "metadata": {
        "id": "HqAQdUvbe_1k"
      },
      "source": [
        "Next, you can define a logical problem such as the one below."
      ]
    },
    {
      "cell_type": "code",
      "execution_count": 6,
      "metadata": {
        "id": "82qEUsfpz8mx",
        "outputId": "cd750e17-b99a-4c26-e52b-52693e0a3112",
        "colab": {
          "base_uri": "https://localhost:8080/",
          "height": 819
        }
      },
      "outputs": [
        {
          "output_type": "execute_result",
          "data": {
            "text/plain": [
              "<IPython.core.display.Markdown object>"
            ],
            "text/markdown": "Okay, I will solve this probability problem step-by-step.\n\n1.  **Summarize given conditions.**\n    *   1 in 5 dice are weighted to always roll a 6. This means P(Weighted) = 1/5 = 0.2\n    *   4 in 5 dice are fair. This means P(Fair) = 4/5 = 0.8\n    *   A weighted die *always* rolls a 6. This means P(6 | Weighted) = 1\n    *   A fair die rolls a 6 with probability 1/6. This means P(6 | Fair) = 1/6\n\n2.  **Identify the problem.**\n\n    We want to find out whether it's more likely that the die was weighted, given that a 6 was rolled. In other words, we want to find P(Weighted | 6). We can use Bayes' Theorem to solve this.\n\n3.  **Provide a clear, step-by-step solution.**\n\n    Bayes' Theorem states:\n\n    P(A | B) = \\[P(B | A) \\* P(A)] / P(B)\n\n    In our case, A = Weighted and B = 6. So we want to find P(Weighted | 6).\n\n    *   P(Weighted | 6) = \\[P(6 | Weighted) \\* P(Weighted)] / P(6)\n\n    We know P(6 | Weighted) = 1 and P(Weighted) = 1/5 = 0.2.  We need to find P(6).\n\n    P(6) can be found using the law of total probability:\n\n    P(6) = P(6 | Weighted) \\* P(Weighted) + P(6 | Fair) \\* P(Fair)\n\n    P(6) = (1) \\* (1/5) + (1/6) \\* (4/5)\n    P(6) = 1/5 + 4/30\n    P(6) = 1/5 + 2/15\n    P(6) = 3/15 + 2/15\n    P(6) = 5/15 = 1/3\n\n    Now we can plug this back into Bayes' Theorem:\n\n    P(Weighted | 6) = \\[(1) \\* (1/5)] / (1/3)\n    P(Weighted | 6) = (1/5) / (1/3)\n    P(Weighted | 6) = (1/5) \\* (3/1)\n    P(Weighted | 6) = 3/5 = 0.6\n\n    Now let's calculate the probability that the die was fair given that we rolled a 6, P(Fair | 6).\n\n    P(Fair | 6) = \\[P(6 | Fair) \\* P(Fair)] / P(6)\n    P(Fair | 6) = \\[(1/6) \\* (4/5)] / (1/3)\n    P(Fair | 6) = (4/30) / (1/3)\n    P(Fair | 6) = (2/15) \\* (3/1)\n    P(Fair | 6) = 6/15 = 2/5 = 0.4\n\n    Since P(Weighted | 6) = 0.6 and P(Fair | 6) = 0.4, it is more likely that the die was weighted.\n\n4.  **Provide an explanation for each step.**\n\n    *   **Step 1: Summarize given conditions.** This step simply restates the information provided in the problem to make it easier to work with.\n    *   **Step 2: Identify the problem.** This step clarifies what we are trying to calculate: the probability that the die was weighted, given that a 6 was rolled.\n    *   **Step 3: Provide a clear, step-by-step solution.**\n        *   **Bayes' Theorem:** This is the core formula that allows us to update our belief (probability of the die being weighted) given new evidence (rolling a 6).\n        *   **P(Weighted | 6) = \\[P(6 | Weighted) \\* P(Weighted)] / P(6):** Applying Bayes' Theorem to our specific problem.\n        *   **P(6) = P(6 | Weighted) \\* P(Weighted) + P(6 | Fair) \\* P(Fair):** Using the Law of Total Probability to calculate the overall probability of rolling a 6, considering both weighted and fair dice.\n        *   **Calculating P(6):**  Plugging in the known probabilities to calculate the value of P(6).\n        *   **Plugging into Bayes' Theorem:** Substituting the calculated value of P(6) back into Bayes' Theorem to find P(Weighted | 6).\n        *   **Calculating P(Fair |6):** Substituting the calculated value of P(6) back into Bayes' Theorem to find P(Fair | 6).\n        *   **Comparing Probabilities:**  Comparing P(Weighted | 6) and P(Fair | 6) to determine which is more likely.\n    *   **Step 4: Provide an explanation for each step.** This step explains the reasoning behind each step in the solution.\n"
          },
          "metadata": {},
          "execution_count": 6
        }
      ],
      "source": [
        "from IPython.display import Markdown\n",
        "\n",
        "logical_problem = \"\"\"\n",
        "  Assume a world where 1 in 5 dice are weighted and have 100% to roll a 6.\n",
        "  A person rolled a dice and rolled a 6.\n",
        "  Is it more likely that the die was weighted or not?\n",
        "\"\"\"\n",
        "\n",
        "response = client.models.generate_content(\n",
        "    model=\"gemini-2.0-flash\",\n",
        "    contents=logical_problem,\n",
        "    config=config,\n",
        ")\n",
        "Markdown(response.text)"
      ]
    },
    {
      "cell_type": "code",
      "execution_count": 7,
      "metadata": {
        "id": "u2ZDzuOYvMMy",
        "outputId": "3d6cd368-e9c3-409b-f8a4-2a3f00ab3e45",
        "colab": {
          "base_uri": "https://localhost:8080/",
          "height": 523
        }
      },
      "outputs": [
        {
          "output_type": "execute_result",
          "data": {
            "text/plain": [
              "<IPython.core.display.Markdown object>"
            ],
            "text/markdown": "Okay, let's solve this problem step-by-step.\n\n1.  **Summarize given conditions.**\n    *   We are given a triangle.\n    *   The base of the triangle, *b*, is 6.\n    *   The height of the triangle, *h*, is 8.\n\n2.  **Identify the problem.**\n    *   We need to calculate the area of the triangle.\n\n3.  **Provide a clear, step-by-step solution.**\n    *   **Step 1:** Recall the formula for the area of a triangle.\n        *   The area of a triangle is given by the formula:  Area = (1/2) * base * height\n    *   **Step 2:** Substitute the given values into the formula.\n        *   Area = (1/2) * 6 * 8\n    *   **Step 3:** Perform the multiplication.\n        *   Area = (1/2) * 48\n    *   **Step 4:** Simplify the expression.\n        *   Area = 24\n\n4.  **Provide an explanation for each step.**\n\n    *   **Step 1:** The formula Area = (1/2) * base * height is a fundamental geometric formula for calculating the area enclosed by a triangle.\n    *   **Step 2:** We substitute the given values of base (b=6) and height (h=8) into the area formula to apply it to this specific triangle.\n    *   **Step 3:** We multiply the base and height, 6 * 8 = 48, following the order of operations.\n    *   **Step 4:** We multiply the result by 1/2 (or divide by 2) to obtain the final area: 48 / 2 = 24.\n\nTherefore, the area of the triangle is 24 square units.\n"
          },
          "metadata": {},
          "execution_count": 7
        }
      ],
      "source": [
        "math_problem = \"\"\"\n",
        "  Given a triangle with base b=6 and height h=8, calculate its area\n",
        "\"\"\"\n",
        "response = client.models.generate_content(\n",
        "    model=\"gemini-2.0-flash\",\n",
        "    contents=math_problem,\n",
        "    config=config,\n",
        ")\n",
        "Markdown(response.text)"
      ]
    },
    {
      "cell_type": "markdown",
      "metadata": {
        "id": "4gJJr5AM5Bwl"
      },
      "source": [
        "## Next steps\n",
        "\n",
        "Be sure to explore other examples of prompting in the repository. Try creating your own prompts that include instructions on how to solve basic reasoning problems, or use the prompt given in this notebook as a template."
      ]
    }
  ],
  "metadata": {
    "colab": {
      "name": "Basic_Reasoning.ipynb",
      "toc_visible": true,
      "provenance": []
    },
    "kernelspec": {
      "display_name": "Python 3",
      "name": "python3"
    }
  },
  "nbformat": 4,
  "nbformat_minor": 0
}